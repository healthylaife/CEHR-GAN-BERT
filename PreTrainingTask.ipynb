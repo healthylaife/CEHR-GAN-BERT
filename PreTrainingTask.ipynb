{
 "cells": [
  {
   "cell_type": "code",
   "execution_count": null,
   "metadata": {
    "collapsed": true
   },
   "outputs": [],
   "source": [
    "import torch\n",
    "import numpy as np\n",
    "\n",
    "import torch.nn as nn\n",
    "import time\n",
    "import math\n",
    "import sklearn.metrics as skm\n",
    "\n",
    "from torch.utils.data import Dataset\n",
    "import pandas as pd\n",
    "from models.PreTrainingModel import  *"
   ]
  },
  {
   "cell_type": "code",
   "execution_count": null,
   "outputs": [],
   "source": [
    "src = pd.read_csv(\"data/tokenized_visits.csv\", header=None)\n",
    "age_data = pd.read_csv(\"data/tokenized_age.csv\", header=None)\n",
    "gender_data = pd.read_csv(\"data/tokenized_gender.csv\", header=None)\n",
    "race_data = pd.read_csv(\"data/tokenized_race.csv\", header=None)\n",
    "ethnicity_data = pd.read_csv(\"data/tokenized_ethnicity.csv\", header=None)\n",
    "time_date = pd.read_csv(\"data/tokenized_timestamps.csv\", header=None)\n",
    "vocab_df = pd.read_csv(\"data/vocab.csv\", header=0)"
   ],
   "metadata": {
    "collapsed": false,
    "pycharm": {
     "name": "#%%\n"
    }
   }
  },
  {
   "cell_type": "code",
   "execution_count": null,
   "outputs": [],
   "source": [
    "vocab = vocab_df.to_dict()['Unnamed: 0']\n",
    "vocab = {v: k for k, v in vocab.items()}\n",
    "vocab['MASK'] = int(max(vocab.values()))+1\n",
    "\n",
    "train_l = int(len(src)*0.70)\n",
    "val_l = int(len(src)*0.10)\n",
    "test_l = len(src) - val_l - train_l"
   ],
   "metadata": {
    "collapsed": false,
    "pycharm": {
     "name": "#%%\n"
    }
   }
  },
  {
   "cell_type": "code",
   "execution_count": null,
   "outputs": [],
   "source": [
    "global_params = {\n",
    "    'max_seq_len': src.shape[1]\n",
    "}\n",
    "\n",
    "optim_param = {\n",
    "    'lr_discr': 3e-5,\n",
    "    'lr_gen': 3e-5\n",
    "}\n",
    "\n",
    "train_params = {\n",
    "    'batch_size': 32,\n",
    "    'use_cuda': True,\n",
    "    'max_len_seq': global_params['max_seq_len'],\n",
    "    'device': \"cuda\" if torch.cuda.is_available() else \"cpu\",\n",
    "    'data_len' : len(src),\n",
    "    'train_data_len' : train_l,\n",
    "    'val_data_len' : val_l,\n",
    "    'test_data_len' : test_l,\n",
    "    'epochs' : 35,\n",
    "    'action' : 'train',\n",
    "}\n",
    "\n",
    "model_config = {\n",
    "    'vocab_size': 708, # number of disease + symbols for word embedding\n",
    "    'hidden_size': 288, # word embedding and seg embedding hidden size\n",
    "    'seg_vocab_size': 2, # number of vocab for seg embedding\n",
    "    'age_vocab_size': 111, # number of vocab for age embedding\n",
    "    'gender_vocab_size': 2,\n",
    "    'ethnicity_vocab_size': 2,\n",
    "    'race_vocab_size': 6,\n",
    "    'num_labels':1,\n",
    "    'feature_dict':708,\n",
    "    'max_position_embedding': train_params['max_len_seq'], # maximum number of tokens\n",
    "    'hidden_dropout_prob': 0.2, # dropout rate\n",
    "    'num_hidden_layers': 6, # number of multi-head attention layers required\n",
    "    'num_attention_heads': 12, # number of attention heads\n",
    "    'attention_probs_dropout_prob': 0.2, # multi-head attention dropout rate\n",
    "    'intermediate_size': 512, # the size of the \"intermediate\" layer in the transformer encoder\n",
    "    'hidden_act': 'gelu', # The non-linear activation function in the encoder and the pooler \"gelu\", 'relu', 'swish' are supported\n",
    "    'initializer_range': 0.02, # parameter weight initializer range\n",
    "    'number_output' : 1\n",
    "}"
   ],
   "metadata": {
    "collapsed": false,
    "pycharm": {
     "name": "#%%\n"
    }
   }
  },
  {
   "cell_type": "code",
   "execution_count": null,
   "outputs": [],
   "source": [
    "train_code = src.values[:train_l]\n",
    "val_code = src.values[train_l:train_l + val_l]\n",
    "test_code = src.values[train_l + val_l:]\n",
    "\n",
    "train_age = age_data.values[:train_l]\n",
    "val_age = age_data.values[train_l:train_l + val_l]\n",
    "test_age = age_data.values[train_l + val_l:]\n",
    "\n",
    "train_gender = gender_data.values[:train_l]\n",
    "val_gender = gender_data.values[train_l:train_l + val_l]\n",
    "test_gender= gender_data.values[train_l + val_l:]\n",
    "\n",
    "\n",
    "train_time = time_date.values[:train_l]\n",
    "val_time = time_date.values[train_l:train_l + val_l]\n",
    "test_time = time_date.values[train_l + val_l:]\n",
    "\n",
    "train_data = {\"code\":train_code, \"age\":train_age, \"gender\":train_gender, \"time\":train_time}\n",
    "val_data = {\"code\":val_code, \"age\":val_age, \"gender\":val_gender, \"time\":val_time}\n",
    "test_data = {\"code\":test_code,  \"age\":test_age, \"gender\":test_gender, \"time\":test_time}"
   ],
   "metadata": {
    "collapsed": false,
    "pycharm": {
     "name": "#%%\n"
    }
   }
  },
  {
   "cell_type": "code",
   "execution_count": null,
   "outputs": [],
   "source": [
    "conf = BertConfig(model_config)\n",
    "bert = BertForMLM(conf)\n",
    "bert = bert.to(train_params['device'])\n",
    "\n",
    "bert_vars = [i for i in bert.parameters()]\n",
    "optim = torch.optim.Adam(bert_vars, lr=optim_param['lr_discr'])"
   ],
   "metadata": {
    "collapsed": false,
    "pycharm": {
     "name": "#%%\n"
    }
   }
  },
  {
   "cell_type": "code",
   "execution_count": null,
   "outputs": [],
   "source": [
    "def run_epoch(e, trainload, device):\n",
    "    tr_loss = 0\n",
    "    start = time.time()\n",
    "    bert.train()\n",
    "    for step, batch in enumerate(trainload):\n",
    "        optim.zero_grad()\n",
    "        batch = tuple(t for t in batch)\n",
    "        input_ids, age_ids, gender_ids, time_ids, posi_ids, segment_ids, attMask, masked_label = batch\n",
    "        input_ids=input_ids.to(device)\n",
    "        age_ids=age_ids.to(device)\n",
    "        gender_ids=gender_ids.to(device)\n",
    "        time_ids=time_ids.to(device)\n",
    "        posi_ids=posi_ids.to(device)\n",
    "        segment_ids=segment_ids.to(device)\n",
    "        attMask=attMask.to(device)\n",
    "        masked_label=masked_label.to(device)\n",
    "\n",
    "        loss, pred, label = bert(input_ids, age_ids, gender_ids, time_ids, posi_ids, segment_ids, attention_mask=attMask, masked_lm_labels=masked_label)\n",
    "        loss.backward()\n",
    "        tr_loss += loss.item()\n",
    "        if step%500 == 0:\n",
    "            print(cal_acc(label, pred))\n",
    "        optim.step()\n",
    "        del loss, pred, label\n",
    "    cost = time.time() - start\n",
    "    return tr_loss, cost"
   ],
   "metadata": {
    "collapsed": false,
    "pycharm": {
     "name": "#%%\n"
    }
   }
  },
  {
   "cell_type": "code",
   "execution_count": null,
   "outputs": [],
   "source": [
    "def train(trainload, valload, device):\n",
    "    with open(\"log_pre_train.txt\", 'w') as f:\n",
    "            f.write('')\n",
    "    best_val = math.inf\n",
    "    for e in range(train_params[\"epochs\"]):\n",
    "        print(\"Epoch n\" + str(e))\n",
    "        train_loss, train_time_cost = run_epoch(e, trainload, device)\n",
    "        val_loss, val_time_cost,pred, label = eval(valload, device)\n",
    "        train_loss = train_loss / math.ceil((train_params[\"train_data_len\"]/train_params['batch_size']))\n",
    "        val_loss = val_loss / math.ceil((train_params[\"val_data_len\"]/train_params['batch_size']))\n",
    "        print('TRAIN {}\\t{} secs\\n'.format(train_loss, train_time_cost))\n",
    "        with open(\"log_pre_train.txt\", 'a') as f:\n",
    "            f.write(\"Epoch n\" + str(e) + '\\n TRAIN {}\\t{} secs\\n'.format(train_loss, train_time_cost) + '\\n\\n\\n')\n",
    "            f.write('EVAL {}\\t{} secs\\n'.format(val_loss, val_time_cost) + '\\n\\n\\n')\n",
    "        print('EVAL {}\\t{} secs\\n'.format(val_loss, val_time_cost))\n",
    "        if val_loss < best_val:\n",
    "          print(\"** ** * Saving pre - trained model ** ** * \")\n",
    "          model_to_save = bert.module if hasattr(bert, 'module') else bert\n",
    "          save_model(model_to_save.state_dict(), 'bert_pretrain')\n",
    "          best_val = val_loss\n",
    "    return train_loss, val_loss"
   ],
   "metadata": {
    "collapsed": false,
    "pycharm": {
     "name": "#%%\n"
    }
   }
  },
  {
   "cell_type": "code",
   "execution_count": null,
   "outputs": [],
   "source": [
    "def eval(_valload, device):\n",
    "    tr_loss = 0\n",
    "    start = time.time()\n",
    "    bert.eval()\n",
    "    for step, batch in enumerate(_valload):\n",
    "        batch = tuple(t for t in batch)\n",
    "        input_ids, age_ids, gender_ids, time_ids, posi_ids, segment_ids, attMask, masked_label = batch\n",
    "        input_ids=input_ids.to(device)\n",
    "        age_ids=age_ids.to(device)\n",
    "        gender_ids=gender_ids.to(device)\n",
    "        time_ids=time_ids.to(device)\n",
    "        posi_ids=posi_ids.to(device)\n",
    "        segment_ids=segment_ids.to(device)\n",
    "        attMask=attMask.to(device)\n",
    "        masked_label=masked_label.to(device)\n",
    "\n",
    "        loss, pred, label = bert(input_ids, age_ids, gender_ids, time_ids, posi_ids, segment_ids, attention_mask=attMask, masked_lm_labels=masked_label)\n",
    "\n",
    "        tr_loss += loss.item()\n",
    "        del loss\n",
    "\n",
    "    cost = time.time() - start\n",
    "    return tr_loss, cost, pred, label"
   ],
   "metadata": {
    "collapsed": false,
    "pycharm": {
     "name": "#%%\n"
    }
   }
  },
  {
   "cell_type": "code",
   "execution_count": null,
   "outputs": [],
   "source": [
    "def cal_acc(label, pred):\n",
    "    logs = nn.LogSoftmax(dim=1)\n",
    "    label=label.cpu().numpy()\n",
    "    ind = np.where(label!=-1)[0]\n",
    "    truepred = pred.detach().cpu().numpy()\n",
    "    truepred = truepred[ind]\n",
    "    truelabel = label[ind]\n",
    "    truepred = logs(torch.tensor(truepred))\n",
    "    outs = [np.argmax(pred_x) for pred_x in truepred.numpy()]\n",
    "    precision = skm.precision_score(truelabel, outs, average='micro')\n",
    "    return precision"
   ],
   "metadata": {
    "collapsed": false,
    "pycharm": {
     "name": "#%%\n"
    }
   }
  },
  {
   "cell_type": "code",
   "execution_count": null,
   "outputs": [],
   "source": [
    "def save_model(_model_dict, file_name):\n",
    "    torch.save(_model_dict, file_name)"
   ],
   "metadata": {
    "collapsed": false,
    "pycharm": {
     "name": "#%%\n"
    }
   }
  },
  {
   "cell_type": "code",
   "execution_count": null,
   "outputs": [],
   "source": [
    "if train_params['action'] == 'resume' or train_params['action'] == 'eval':\n",
    "    bert.load_state_dict(torch.load(\"bert_pretrain\", map_location=train_params['device']))\n",
    "    print(\"Loading Successful\")\n",
    "if train_params['action'] == 'train' or train_params['action'] == 'resume':\n",
    "    TrainDset = DataLoader(train_data, vocab, max_len=train_params['max_len_seq'], code='code')\n",
    "    trainload = torch.utils.data.DataLoader(dataset=TrainDset, batch_size=train_params['batch_size'], shuffle=True)\n",
    "    ValDset = DataLoader(val_data, vocab, max_len=train_params['max_len_seq'], code='code')\n",
    "    valload = torch.utils.data.DataLoader(dataset=ValDset, batch_size=train_params['batch_size'], shuffle=True)\n",
    "    train_loss, val_loss = train(trainload, valload, train_params['device'])\n",
    "elif train_params['action'] == 'eval':\n",
    "    TestDset = DataLoader(test_data, vocab, max_len=train_params['max_len_seq'], code='code')\n",
    "    testload = torch.utils.data.DataLoader(dataset=TestDset, batch_size=int(32), shuffle=True)\n",
    "    loss, cost, pred, label = eval(testload)"
   ],
   "metadata": {
    "collapsed": false,
    "pycharm": {
     "name": "#%%\n"
    }
   }
  }
 ],
 "metadata": {
  "kernelspec": {
   "display_name": "Python 3",
   "language": "python",
   "name": "python3"
  },
  "language_info": {
   "codemirror_mode": {
    "name": "ipython",
    "version": 2
   },
   "file_extension": ".py",
   "mimetype": "text/x-python",
   "name": "python",
   "nbconvert_exporter": "python",
   "pygments_lexer": "ipython2",
   "version": "2.7.6"
  }
 },
 "nbformat": 4,
 "nbformat_minor": 0
}