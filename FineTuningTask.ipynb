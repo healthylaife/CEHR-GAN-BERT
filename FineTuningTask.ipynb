{
 "cells": [
  {
   "cell_type": "code",
   "execution_count": null,
   "metadata": {
    "collapsed": true
   },
   "outputs": [],
   "source": [
    "import torch\n",
    "import numpy as np\n",
    "\n",
    "import torch.nn as nn\n",
    "import time\n",
    "import math\n",
    "\n",
    "from torch.utils.data import Dataset\n",
    "import pandas as pd\n",
    "from models.FineTuningModel import  *"
   ]
  },
  {
   "cell_type": "code",
   "execution_count": null,
   "outputs": [],
   "source": [
    "src = pd.read_csv(\"data/tokenized_visits.csv\", header=None)\n",
    "age_data = pd.read_csv(\"data/tokenized_age.csv\", header=None)\n",
    "gender_data = pd.read_csv(\"data/tokenized_gender.csv\", header=None)\n",
    "race_data = pd.read_csv(\"data/tokenized_race.csv\", header=None)\n",
    "ethnicity_data = pd.read_csv(\"data/tokenized_ethnicity.csv\", header=None)\n",
    "time_date = pd.read_csv(\"data/tokenized_timestamps.csv\", header=None)\n",
    "mask_data = pd.read_csv(\"data/tokenized_masks.csv\", header=None)\n",
    "target_data = pd.read_csv(\"data/target.csv\", header=None)"
   ],
   "metadata": {
    "collapsed": false,
    "pycharm": {
     "name": "#%%\n"
    }
   }
  },
  {
   "cell_type": "code",
   "execution_count": null,
   "outputs": [],
   "source": [
    "train_l = int(len(src)*0.70)\n",
    "val_l = int(len(src)*0.10)\n",
    "test_l = len(src) - val_l - train_l\n",
    "number_output = target_data.shape[1]"
   ],
   "metadata": {
    "collapsed": false,
    "pycharm": {
     "name": "#%%\n"
    }
   }
  },
  {
   "cell_type": "code",
   "execution_count": null,
   "outputs": [],
   "source": [
    "global_params = {\n",
    "    'max_seq_len': src.shape[1]\n",
    "}\n",
    "\n",
    "optim_param = {\n",
    "    'lr_discr': 3e-5,\n",
    "    'lr_gen': 3e-5\n",
    "}\n",
    "\n",
    "train_params = {\n",
    "    'batch_size': 32,\n",
    "    'use_cuda': True,\n",
    "    'max_len_seq': global_params['max_seq_len'],\n",
    "    'device': \"cuda\" if torch.cuda.is_available() else \"cpu\",\n",
    "    'data_len' : len(target_data),\n",
    "    'train_data_len' : train_l,\n",
    "    'val_data_len' : val_l,\n",
    "    'test_data_len' : test_l,\n",
    "    'epochs' : 35,\n",
    "    'action' : 'train',\n",
    "    'alpha_unsup':0.35\n",
    "}\n",
    "\n",
    "model_config = {\n",
    "    'vocab_size': 708, # number of disease + symbols for word embedding\n",
    "    'hidden_size': 288, # word embedding and seg embedding hidden size\n",
    "    'seg_vocab_size': 2, # number of vocab for seg embedding\n",
    "    'age_vocab_size': 111, # number of vocab for age embedding\n",
    "    'gender_vocab_size': 2,\n",
    "    'ethnicity_vocab_size': 2,\n",
    "    'race_vocab_size': 6,\n",
    "    'num_labels':1,\n",
    "    'feature_dict':708,\n",
    "    'max_position_embedding': train_params['max_len_seq'], # maximum number of tokens\n",
    "    'hidden_dropout_prob': 0.2, # dropout rate\n",
    "    'num_hidden_layers': 6, # number of multi-head attention layers required\n",
    "    'num_attention_heads': 12, # number of attention heads\n",
    "    'attention_probs_dropout_prob': 0.2, # multi-head attention dropout rate\n",
    "    'intermediate_size': 512, # the size of the \"intermediate\" layer in the transformer encoder\n",
    "    'hidden_act': 'gelu', # The non-linear activation function in the encoder and the pooler \"gelu\", 'relu', 'swish' are supported\n",
    "    'initializer_range': 0.02, # parameter weight initializer range\n",
    "    'number_output' : number_output\n",
    "}"
   ],
   "metadata": {
    "collapsed": false,
    "pycharm": {
     "name": "#%%\n"
    }
   }
  },
  {
   "cell_type": "code",
   "execution_count": null,
   "outputs": [],
   "source": [
    "from sklearn.model_selection import KFold\n",
    "kf = KFold(n_splits=5, random_state=None)\n",
    "\n",
    "k = 5\n",
    "i = 1\n",
    "few_shots = 1\n",
    "\n",
    "for train_index, test_index in kf.split(src):\n",
    "\n",
    "  amount_few_shots = round(train_l * few_shots)\n",
    "  val_index = train_index[train_l:]\n",
    "  train_index= train_index[:train_l]\n",
    "  train_index = train_index[np.random.choice(len(train_index), size=amount_few_shots, replace=False)]\n",
    "\n",
    "  train_code = src.values[train_index]\n",
    "  val_code = src.values[val_index]\n",
    "  test_code = src.values[test_index]\n",
    "\n",
    "  train_age = age_data.values[train_index]\n",
    "  val_age = age_data.values[val_index]\n",
    "  test_age = age_data.values[test_index]\n",
    "\n",
    "  train_gender = gender_data.values[train_index]\n",
    "  val_gender = gender_data.values[val_index]\n",
    "  test_gender= gender_data.values[test_index]\n",
    "\n",
    "  train_ethnicity = ethnicity_data.values[train_index]\n",
    "  val_ethnicity = ethnicity_data.values[val_index]\n",
    "  test_ethnicity = ethnicity_data.values[test_index]\n",
    "\n",
    "  train_race = race_data.values[train_index]\n",
    "  val_race = race_data.values[val_index]\n",
    "  test_race = race_data.values[test_index]\n",
    "\n",
    "  train_time = time_date.values[train_index]\n",
    "  val_time = time_date.values[val_index]\n",
    "  test_time = time_date.values[test_index]\n",
    "\n",
    "  train_labels = target_data.values[train_index]\n",
    "  val_labels = target_data.values[val_index]\n",
    "  test_labels = target_data.values[test_index]\n",
    "\n",
    "  train_masks = mask_data.values[train_index]\n",
    "  val_masks = mask_data.values[val_index]\n",
    "  test_masks= mask_data.values[test_index]\n",
    "\n",
    "  if i == k:\n",
    "    train_data = {\"code\":train_code, \"age\":train_age, \"gender\":train_gender, \"ethnicity\":train_ethnicity, \"race\":train_race, \"time\":train_time, \"labels\":train_labels, \"masks\":train_masks}\n",
    "    val_data = {\"code\":val_code, \"age\":val_age, \"gender\":val_gender, \"ethnicity\":val_ethnicity, \"race\":val_race, \"time\":val_time, \"labels\":val_labels, \"masks\":val_masks}\n",
    "    test_data = {\"code\":test_code,  \"age\":test_age, \"gender\":test_gender, \"ethnicity\":test_ethnicity, \"race\":test_race,\"time\":test_time, \"labels\":test_labels, \"masks\":test_masks}\n",
    "    break\n",
    "  i+=1"
   ],
   "metadata": {
    "collapsed": false,
    "pycharm": {
     "name": "#%%\n"
    }
   }
  },
  {
   "cell_type": "code",
   "execution_count": null,
   "outputs": [],
   "source": [
    "noise_size=100\n",
    "hidden_size=288\n",
    "hidden_levels_d=[288, 288]\n",
    "hidden_levels_g=[288, 288]\n",
    "out_dropout_rate = 0.2\n",
    "\n",
    "conf = BertConfig(model_config)\n",
    "bert = BertForEHR(conf)\n",
    "generator = Generator(noise_size=noise_size, output_size=hidden_size, hidden_sizes=hidden_levels_g, dropout_rate=out_dropout_rate)\n",
    "discriminator = Discr(input_size=hidden_size, hidden_sizes=hidden_levels_d, num_labels=number_output, dropout_rate=out_dropout_rate)"
   ],
   "metadata": {
    "collapsed": false,
    "pycharm": {
     "name": "#%%\n"
    }
   }
  },
  {
   "cell_type": "code",
   "execution_count": null,
   "outputs": [],
   "source": [
    "discriminator = discriminator.to(train_params['device'])\n",
    "generator = generator.to(train_params['device'])\n",
    "bert = bert.to(train_params['device'])\n",
    "\n",
    "#models parameters\n",
    "transformer_vars = [i for i in bert.parameters()]\n",
    "d_vars = transformer_vars + [v for v in discriminator.parameters()]\n",
    "g_vars = [v for v in generator.parameters()]\n",
    "\n",
    "#optimizer\n",
    "optim_disc_bert = torch.optim.Adam(d_vars, lr=optim_param['lr_discr'])\n",
    "optim_gen = torch.optim.AdamW(g_vars, lr=optim_param['lr_gen'])\n",
    "\n",
    "\n",
    "bce_loss = nn.BCELoss()\n",
    "bce_logits_loss = nn.BCEWithLogitsLoss(reduction='none')"
   ],
   "metadata": {
    "collapsed": false,
    "pycharm": {
     "name": "#%%\n"
    }
   }
  },
  {
   "cell_type": "code",
   "execution_count": null,
   "outputs": [],
   "source": [
    "def run_epoch(e, trainload, device):\n",
    "    tr_loss = 0\n",
    "    start = time.time()\n",
    "    bert.train()\n",
    "    discriminator.train()\n",
    "    generator.train()\n",
    "    for step, batch in enumerate(trainload):\n",
    "        batch = tuple(t for t in batch)\n",
    "        input_ids, age_ids, gender_ids, ethnicity_ids, race_ids, time_ids, posi_ids, segment_ids, attMask, labels, masks = batch\n",
    "\n",
    "        input_ids=input_ids.to(device)\n",
    "        age_ids=age_ids.to(device)\n",
    "        gender_ids=gender_ids.to(device)\n",
    "        ethnicity_ids=ethnicity_ids.to(device)\n",
    "        race_ids=race_ids.to(device)\n",
    "        time_ids=time_ids.to(device)\n",
    "        posi_ids=posi_ids.to(device)\n",
    "        segment_ids=segment_ids.to(device)\n",
    "        attMask=attMask.to(device)\n",
    "        labels=labels.to(device)\n",
    "        labels = torch.squeeze(labels, 1)\n",
    "        masks=masks.to(device)\n",
    "        masks = torch.squeeze(masks, 1)\n",
    "\n",
    "        output_behrt = behrt(input_ids, age_ids, gender_ids, ethnicity_ids, race_ids, time_ids, posi_ids, segment_ids,attention_mask=attMask, labels=labels)\n",
    "        output_gen = generator(torch.randn(output_behrt.shape[0], noise_size).to(device))\n",
    "        discr_input = torch.cat([output_behrt, output_gen], dim=0)\n",
    "        features, logits, probs = discriminator(discr_input)\n",
    "\n",
    "        features_list = torch.split(features, output_behrt.shape[0])\n",
    "        D_real_features = features_list[0]\n",
    "        D_fake_features = features_list[1]\n",
    "\n",
    "        logits_list = torch.split(logits, output_behrt.shape[0])\n",
    "        logits = logits_list[0]\n",
    "        logits = logits[:,0:-1]\n",
    "\n",
    "        probs_list = torch.split(probs, output_behrt.shape[0])\n",
    "        D_real_probs = probs_list[0]\n",
    "        D_fake_probs = probs_list[1]\n",
    "\n",
    "        discr_loss_real = bce_loss(D_real_probs[:, -1], torch.ones(output_behrt.shape[0]).to(device))\n",
    "        discr_loss_fake = bce_loss(D_fake_probs[:, -1], torch.zeros(output_behrt.shape[0]).to(device))\n",
    "        discr_unsupervised_loss = (discr_loss_real + discr_loss_fake) / 2\n",
    "\n",
    "        masked_lm_loss = bce_logits_loss(logits, labels)\n",
    "        masked_lm_loss = torch.mul(masked_lm_loss, masks)\n",
    "        masked_lm_loss = torch.div(masked_lm_loss.sum(dim=0), masks.sum(dim=0) + 0.001)\n",
    "        discr_supervised_loss = torch.div(torch.sum(masked_lm_loss), masks.shape[1])\n",
    "\n",
    "        discr_loss = discr_supervised_loss + train_params['alpha_unsup'] * discr_unsupervised_loss\n",
    "\n",
    "\n",
    "\n",
    "        g_loss_d = bce_loss(D_fake_probs[:, -1], torch.ones(output_behrt.shape[0]).to(device))\n",
    "        g_feat_reg = torch.mean(torch.pow(torch.mean(D_real_features, dim=0) - torch.mean(D_fake_features, dim=0), 2))\n",
    "        g_loss = g_loss_d + g_feat_reg\n",
    "\n",
    "        optim_gen.zero_grad()\n",
    "        optim_disc_behrt.zero_grad()\n",
    "\n",
    "        g_loss.backward(retain_graph=True)\n",
    "        discr_loss.backward()\n",
    "\n",
    "        optim_gen.step()\n",
    "        optim_disc_behrt.step()\n",
    "\n",
    "        loss= g_loss.item() + discr_unsupervised_loss.item() + discr_supervised_loss.item()\n",
    "        tr_loss += loss\n",
    "\n",
    "        if step%500 == 0:\n",
    "            print(\"Generator Loss:\", g_loss)\n",
    "            print(\"Discr Supervised Loss:\", discr_supervised_loss)\n",
    "            print(\"Discr Unsupervised Loss:\", discr_unsupervised_loss)\n",
    "\n",
    "            print(\"TOTAL LOSS\", loss)\n",
    "    cost = time.time() - start\n",
    "    return tr_loss, cost"
   ],
   "metadata": {
    "collapsed": false,
    "pycharm": {
     "name": "#%%\n"
    }
   }
  },
  {
   "cell_type": "code",
   "execution_count": null,
   "outputs": [],
   "source": [
    "def eval(_valload, eval, device):\n",
    "    bert.eval()\n",
    "    discriminator.eval()\n",
    "    generator.eval()\n",
    "    tr_loss = 0\n",
    "    tr_d_sup = 0\n",
    "    start = time.time()\n",
    "    \n",
    "    if eval:\n",
    "        with open(\"preds.csv\", 'w') as f:\n",
    "            f.write('')\n",
    "        with open(\"labels.csv\", 'w') as f:\n",
    "            f.write('')\n",
    "        with open(\"masks.csv\", 'w') as f:\n",
    "            f.write('')\n",
    "            \n",
    "    for step, batch in enumerate(_valload):\n",
    "        batch = tuple(t for t in batch)\n",
    "        input_ids, age_ids, gender_ids, ethnicity_ids, race_ids, time_ids, posi_ids, segment_ids, attMask, labels, masks = batch\n",
    "\n",
    "        input_ids=input_ids.to(device)\n",
    "        age_ids=age_ids.to(device)\n",
    "        gender_ids=gender_ids.to(device)\n",
    "        ethnicity_ids=ethnicity_ids.to(device)\n",
    "        race_ids=race_ids.to(device)\n",
    "        time_ids=time_ids.to(device)\n",
    "        posi_ids=posi_ids.to(device)\n",
    "        segment_ids=segment_ids.to(device)\n",
    "        attMask=attMask.to(device)\n",
    "        labels=labels.to(device)\n",
    "        labels = torch.squeeze(labels, 1)\n",
    "        masks = masks.to(device)\n",
    "        masks = torch.squeeze(masks, 1)\n",
    "        \n",
    "\n",
    "        output_bert = bert(input_ids, age_ids, gender_ids, ethnicity_ids, race_ids, time_ids, posi_ids, segment_ids,attention_mask=attMask, labels=labels)\n",
    "\n",
    "        features, logits, probs = discriminator(output_bert)\n",
    "\n",
    "        logits_list = torch.split(logits, output_bert.shape[0])\n",
    "        D_real_logits = logits_list[0]\n",
    "\n",
    "\n",
    "\n",
    "        logits = D_real_logits[:,0:-1]\n",
    "\n",
    "        masked_lm_loss = bce_logits_loss(logits, labels)\n",
    "        masked_lm_loss = torch.mul(masked_lm_loss, masks)\n",
    "        discr_supervised_loss = torch.div(masked_lm_loss.sum(), masks.sum() + 0.001)\n",
    "\n",
    "\n",
    "\n",
    "\n",
    "        discr_loss = discr_supervised_loss \n",
    "\n",
    "        tr_loss += discr_loss.item()\n",
    "        tr_d_sup += discr_supervised_loss.item()\n",
    "\n",
    "        if eval:\n",
    "            with open(\"preds.csv\", 'a') as f:\n",
    "                pd.DataFrame(logits.detach().cpu().numpy()).to_csv(f, header=False)\n",
    "            with open(\"labels.csv\", 'a') as f:\n",
    "                pd.DataFrame(labels.detach().cpu().numpy()).to_csv(f, header=False)\n",
    "            with open(\"masks.csv\", 'a') as f:\n",
    "                pd.DataFrame(masks.detach().cpu().numpy()).to_csv(f, header=False)\n",
    "            \n",
    "    print(\"Discr Supervised Loss:\", tr_d_sup)\n",
    "\n",
    "    cost = time.time() - start\n",
    "    return tr_loss, cost, logits, labels, masks, tr_d_sup"
   ],
   "metadata": {
    "collapsed": false,
    "pycharm": {
     "name": "#%%\n"
    }
   }
  },
  {
   "cell_type": "code",
   "execution_count": null,
   "outputs": [],
   "source": [
    "def train(trainload, valload, device):\n",
    "    with open(\"log_train.txt\", 'w') as f:\n",
    "            f.write('')\n",
    "    best_val = math.inf\n",
    "    for e in range(train_params[\"epochs\"]):\n",
    "        print(\"Epoch n\" + str(e))\n",
    "        train_loss, train_time_cost = run_epoch(e, trainload, device)\n",
    "        val_loss, val_time_cost,pred, label, mask, discr_loss = eval(valload, False, device)\n",
    "        train_loss = train_loss / math.ceil((train_params[\"train_data_len\"] * few_shots /train_params['batch_size']))\n",
    "        val_loss = val_loss / math.ceil((train_params[\"val_data_len\"]/train_params['batch_size']))\n",
    "        print('TRAIN {}\\t{} secs\\n'.format(train_loss, train_time_cost))\n",
    "        with open(\"log_train.txt\", 'a') as f:\n",
    "            f.write(\"Epoch n\" + str(e) + '\\n TRAIN {}\\t{} secs\\n'.format(train_loss, train_time_cost))\n",
    "            f.write('EVAL {}\\t{} secs\\n'.format(val_loss, val_time_cost) + '\\n\\n\\n')\n",
    "        print('EVAL {}\\t{} secs\\n'.format(val_loss, val_time_cost))\n",
    "        \n",
    "        if discr_loss < best_val:\n",
    "            print(\"** ** * Saving fine - tuned model ** ** * \")\n",
    "            model_to_save = bert.module if hasattr(bert, 'module') else bert\n",
    "            save_model(model_to_save.state_dict(), 'bert')\n",
    "            model_to_save = generator.module if hasattr(generator, 'module') else generator\n",
    "            save_model(model_to_save.state_dict(), 'generator')\n",
    "            model_to_save = discriminator.module if hasattr(discriminator, 'module') else discriminator\n",
    "            save_model(model_to_save.state_dict(), 'discriminator')\n",
    "            best_val = discr_loss\n",
    "    return train_loss, val_loss"
   ],
   "metadata": {
    "collapsed": false,
    "pycharm": {
     "name": "#%%\n"
    }
   }
  },
  {
   "cell_type": "code",
   "execution_count": null,
   "outputs": [],
   "source": [
    "def save_model(_model_dict, file_name):\n",
    "    torch.save(_model_dict, file_name)"
   ],
   "metadata": {
    "collapsed": false,
    "pycharm": {
     "name": "#%%\n"
    }
   }
  },
  {
   "cell_type": "code",
   "execution_count": null,
   "outputs": [],
   "source": [
    "pretrained_dict = torch.load(\"bert_pretrain\", map_location=train_params['device'])\n",
    "model_dict = bert.state_dict()\n",
    "# 1. filter out unnecessary keys\n",
    "pretrained_dict = {k: v for k, v in pretrained_dict.items() if k in model_dict}\n",
    "# 2. overwrite entries in the existing state dict\n",
    "model_dict.update(pretrained_dict)\n",
    "# 3. load the new state dict\n",
    "bert.load_state_dict(model_dict)"
   ],
   "metadata": {
    "collapsed": false,
    "pycharm": {
     "name": "#%%\n"
    }
   }
  },
  {
   "cell_type": "code",
   "execution_count": null,
   "outputs": [],
   "source": [
    "if train_params['action'] == 'eval' or train_params['action'] == 'resume':\n",
    "    bert.load_state_dict(torch.load(\"bert\", map_location=train_params['device']))\n",
    "    generator.load_state_dict(torch.load(\"generator\", map_location=train_params['device']))\n",
    "    discriminator.load_state_dict(torch.load(\"discriminator\", map_location=train_params['device']))\n",
    "    print(\"Loading succesfull\")\n",
    "\n",
    "if train_params['action'] == 'train' or train_params['action'] == 'resume':\n",
    "    TrainDset = DataLoader(train_data, max_len=train_params['max_len_seq'], code='code')\n",
    "    trainload = torch.utils.data.DataLoader(dataset=TrainDset, batch_size=train_params['batch_size'], shuffle=True)\n",
    "    ValDset = DataLoader(val_data, max_len=train_params['max_len_seq'], code='code')\n",
    "    valload = torch.utils.data.DataLoader(dataset=ValDset, batch_size=train_params['batch_size'], shuffle=True)\n",
    "    train_loss, val_loss = train(trainload, valload, train_params['device'])\n",
    "\n",
    "elif train_params['action'] == 'eval':\n",
    "    TestDset = DataLoader(test_data, max_len=train_params['max_len_seq'], code='code')\n",
    "    testload = torch.utils.data.DataLoader(dataset=TestDset, batch_size=train_params['batch_size'], shuffle=False)\n",
    "    loss, cost, pred, label, mask, discr_loss = eval(testload, True, train_params['device'])"
   ],
   "metadata": {
    "collapsed": false,
    "pycharm": {
     "name": "#%%\n"
    }
   }
  }
 ],
 "metadata": {
  "kernelspec": {
   "display_name": "Python 3",
   "language": "python",
   "name": "python3"
  },
  "language_info": {
   "codemirror_mode": {
    "name": "ipython",
    "version": 2
   },
   "file_extension": ".py",
   "mimetype": "text/x-python",
   "name": "python",
   "nbconvert_exporter": "python",
   "pygments_lexer": "ipython2",
   "version": "2.7.6"
  }
 },
 "nbformat": 4,
 "nbformat_minor": 0
}